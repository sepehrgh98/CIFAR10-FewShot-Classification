{
  "nbformat": 4,
  "nbformat_minor": 0,
  "metadata": {
    "colab": {
      "provenance": [],
      "gpuType": "T4"
    },
    "kernelspec": {
      "name": "python3",
      "display_name": "Python 3"
    },
    "language_info": {
      "name": "python"
    },
    "accelerator": "GPU"
  },
  "cells": [
    {
      "cell_type": "code",
      "source": [],
      "metadata": {
        "id": "lOlLUc5IE5z0"
      },
      "execution_count": null,
      "outputs": []
    },
    {
      "cell_type": "markdown",
      "metadata": {
        "id": "vV6DxGkPeQDD"
      },
      "source": [
        "***Challenge 1***"
      ]
    },
    {
      "cell_type": "markdown",
      "metadata": {
        "id": "72hfgxjTd_lk"
      },
      "source": [
        "Here the goal is to train on 25 samples. In this preliminary testbed the evaluation will be done on a 2000 sample validation set. Note in the end the final evaluation will be done on the full CIFAR-10 test set as well as potentially a separate dataset. The validation samples here should not be used for training in any way, the final evaluation will provide only random samples of 25 from a datasource that is not the CIFAR-10 training data."
      ]
    },
    {
      "cell_type": "markdown",
      "metadata": {
        "id": "zk0Ilt_-duk2"
      },
      "source": [
        "Feel free to modify this testbed to your liking, including the normalization transformations etc. Note however the final evaluation testbed will have a rigid set of components where you will need to place your answer. The only constraint is the data. Refer to the full project instructions for more information.\n"
      ]
    },
    {
      "cell_type": "markdown",
      "metadata": {
        "id": "MWyBTUe3idZI"
      },
      "source": [
        "Setup training functions. Again you are free to fully modify this testbed in your prototyping within the constraints of the data used. You can use tools outside of pytorch for training models if desired as well although the torchvision dataloaders will still be useful for interacting with the cifar-10 dataset."
      ]
    },
    {
      "cell_type": "code",
      "metadata": {
        "id": "N7soYNWEedl9"
      },
      "source": [
        "def train(model, device, train_loader, optimizer, epoch, display=True):\n",
        "    model.train()\n",
        "    for batch_idx, (data, target) in enumerate(train_loader):\n",
        "        data, target = data.to(device), target.to(device)\n",
        "        optimizer.zero_grad()\n",
        "        output = model(data)\n",
        "        loss = F.cross_entropy(output, target)\n",
        "        loss.backward()\n",
        "        optimizer.step()\n",
        "    if display:\n",
        "      print('Train Epoch: {} [{}/{} ({:.0f}%)]\\tLoss: {:.6f}'.format(\n",
        "          epoch, batch_idx * len(data), len(train_loader.dataset),\n",
        "          100. * batch_idx / len(train_loader), loss.item()))\n",
        "\n",
        "def test(model, device, test_loader):\n",
        "    model.eval()\n",
        "    test_loss = 0\n",
        "    correct = 0\n",
        "    with torch.no_grad():\n",
        "        for data, target in test_loader:\n",
        "            data, target = data.to(device), target.to(device)\n",
        "            output = model(data)\n",
        "            test_loss += F.cross_entropy(output, target, size_average=False).item() # sum up batch loss\n",
        "            pred = output.max(1, keepdim=True)[1] # get the index of the max log-probability\n",
        "            correct += pred.eq(target.view_as(pred)).sum().item()\n",
        "\n",
        "    test_loss /= len(test_loader.dataset)\n",
        "    print('\\nTest set: Average loss: {:.4f}, Accuracy: {}/{} ({:.2f}%)\\n'.format(\n",
        "        test_loss, correct, len(test_loader.dataset),\n",
        "        100. * correct / len(test_loader.dataset)))\n",
        "    return 100. * correct / len(test_loader.dataset)"
      ],
      "execution_count": null,
      "outputs": []
    },
    {
      "cell_type": "code",
      "metadata": {
        "id": "G4hpe7QbQFnr"
      },
      "source": [
        "import torch\n",
        "import torch.nn as nn\n",
        "import torch.nn.functional as F\n",
        "\n",
        "\n",
        "class CrossAttentionModule(nn.Module):\n",
        "    def __init__(self):\n",
        "        super().__init__()\n",
        "        self.attention = nn.MultiheadAttention(embed_dim=256, num_heads=8)\n",
        "\n",
        "    def forward(self, query, key, value):\n",
        "        return self.attention(query, key, value)[0]\n",
        "\n",
        "class CAN(nn.Module):\n",
        "    def __init__(self):\n",
        "        super().__init__()\n",
        "        self.feature_extractor = nn.Sequential(\n",
        "            nn.Flatten(),\n",
        "            nn.Linear(32*32*3, 256),\n",
        "            nn.ReLU(),\n",
        "        )\n",
        "        self.cam = CrossAttentionModule()\n",
        "        self.classifier = nn.Linear(256, 10)\n",
        "\n",
        "    def forward(self, x):\n",
        "        features = self.feature_extractor(x)\n",
        "        attention_output = self.cam(features.unsqueeze(1), features.unsqueeze(1), features.unsqueeze(1))\n",
        "        out = self.classifier(attention_output.squeeze(1))\n",
        "        return out"
      ],
      "execution_count": null,
      "outputs": []
    },
    {
      "cell_type": "code",
      "source": [],
      "metadata": {
        "id": "RcPpZ11rDYvu"
      },
      "execution_count": null,
      "outputs": []
    },
    {
      "cell_type": "markdown",
      "metadata": {
        "id": "jPjWBE4MerTX"
      },
      "source": [
        "The below tries  2 random problem instances. In your development you may choose to prototype with 1 problem instances but keep in mind for small sample problems the variance is high so continously evaluating on several subsets will be important."
      ]
    },
    {
      "cell_type": "code",
      "metadata": {
        "id": "6v7xU1HMelJ3",
        "colab": {
          "base_uri": "https://localhost:8080/"
        },
        "outputId": "7e3f3bda-6ef4-48ab-cc7c-b4cbd748f5bf"
      },
      "source": [
        "from numpy.random import RandomState\n",
        "import numpy as np\n",
        "import torch.optim as optim\n",
        "from torch.utils.data import Subset\n",
        "import time\n",
        "\n",
        "\n",
        "from torchvision import datasets, transforms\n",
        "normalize = transforms.Normalize((0.4914, 0.4822, 0.4465), (0.247, 0.243, 0.261))\n",
        "\n",
        "transform_val = transforms.Compose([transforms.ToTensor(), normalize]) #careful to keep this one same\n",
        "transform_train = transforms.Compose([transforms.ToTensor(), normalize])\n",
        "\n",
        "use_cuda = torch.cuda.is_available()\n",
        "device = torch.device(\"cuda\" if use_cuda else \"cpu\")\n",
        "\n",
        "##### Cifar Data\n",
        "cifar_data = datasets.CIFAR10(root='.',train=True, transform=transform_train, download=True)\n",
        "\n",
        "#We need two copies of this due to weird dataset api\n",
        "cifar_data_val = datasets.CIFAR10(root='.',train=True, transform=transform_val, download=True)\n",
        "\n",
        "\n",
        "accs = []\n",
        "\n",
        "times = []\n",
        "\n",
        "for seed in range(1, 5):\n",
        "  prng = RandomState(seed)\n",
        "  random_permute = prng.permutation(np.arange(0, 1000))\n",
        "  classes =  prng.permutation(np.arange(0,10))\n",
        "  indx_train = np.concatenate([np.where(np.array(cifar_data.targets) == classe)[0][random_permute[0:25]] for classe in classes[0:2]])\n",
        "  indx_val = np.concatenate([np.where(np.array(cifar_data.targets) == classe)[0][random_permute[25:225]] for classe in classes[0:2]])\n",
        "\n",
        "\n",
        "  train_data = Subset(cifar_data, indx_train)\n",
        "  val_data = Subset(cifar_data_val, indx_val)\n",
        "\n",
        "  print('Num Samples For Training %d Num Samples For Val %d'%(train_data.indices.shape[0],val_data.indices.shape[0]))\n",
        "\n",
        "  train_loader = torch.utils.data.DataLoader(train_data,\n",
        "                                             batch_size=128,\n",
        "                                             shuffle=True)\n",
        "\n",
        "  val_loader = torch.utils.data.DataLoader(val_data,\n",
        "                                           batch_size=128,\n",
        "                                           shuffle=False)\n",
        "\n",
        "\n",
        "  model = CAN().to(device)\n",
        "  optimizer = optim.Adam(model.parameters(), lr=0.001)\n",
        "\n",
        "  start_time = time.time()\n",
        "  for epoch in range(100):\n",
        "    train(model, device, train_loader, optimizer, epoch, display=epoch%5==0)\n",
        "\n",
        "  end_time = time.time()\n",
        "\n",
        "  times.append(end_time - start_time)\n",
        "\n",
        "  accs.append(test(model, device, val_loader))\n",
        "\n",
        "times = np.array(times)\n",
        "accs = np.array(accs)\n",
        "print('Acc over 5 instances: %.2f +- %.2f'%(accs.mean(),accs.std()))\n",
        "print(f\"Average Time over 5 instances: {times.mean()} +-{times.std()}\")\n"
      ],
      "execution_count": null,
      "outputs": [
        {
          "output_type": "stream",
          "name": "stdout",
          "text": [
            "Downloading https://www.cs.toronto.edu/~kriz/cifar-10-python.tar.gz to ./cifar-10-python.tar.gz\n"
          ]
        },
        {
          "output_type": "stream",
          "name": "stderr",
          "text": [
            "100%|██████████| 170498071/170498071 [00:03<00:00, 44011351.98it/s]\n"
          ]
        },
        {
          "output_type": "stream",
          "name": "stdout",
          "text": [
            "Extracting ./cifar-10-python.tar.gz to .\n",
            "Files already downloaded and verified\n",
            "Num Samples For Training 50 Num Samples For Val 400\n",
            "Train Epoch: 0 [0/50 (0%)]\tLoss: 2.299343\n",
            "Train Epoch: 5 [0/50 (0%)]\tLoss: 1.485493\n",
            "Train Epoch: 10 [0/50 (0%)]\tLoss: 0.318496\n",
            "Train Epoch: 15 [0/50 (0%)]\tLoss: 0.094607\n",
            "Train Epoch: 20 [0/50 (0%)]\tLoss: 0.031581\n",
            "Train Epoch: 25 [0/50 (0%)]\tLoss: 0.003033\n",
            "Train Epoch: 30 [0/50 (0%)]\tLoss: 0.000472\n",
            "Train Epoch: 35 [0/50 (0%)]\tLoss: 0.000159\n",
            "Train Epoch: 40 [0/50 (0%)]\tLoss: 0.000050\n",
            "Train Epoch: 45 [0/50 (0%)]\tLoss: 0.000011\n",
            "Train Epoch: 50 [0/50 (0%)]\tLoss: 0.000004\n",
            "Train Epoch: 55 [0/50 (0%)]\tLoss: 0.000003\n",
            "Train Epoch: 60 [0/50 (0%)]\tLoss: 0.000002\n",
            "Train Epoch: 65 [0/50 (0%)]\tLoss: 0.000002\n",
            "Train Epoch: 70 [0/50 (0%)]\tLoss: 0.000002\n",
            "Train Epoch: 75 [0/50 (0%)]\tLoss: 0.000002\n",
            "Train Epoch: 80 [0/50 (0%)]\tLoss: 0.000001\n",
            "Train Epoch: 85 [0/50 (0%)]\tLoss: 0.000001\n",
            "Train Epoch: 90 [0/50 (0%)]\tLoss: 0.000001\n",
            "Train Epoch: 95 [0/50 (0%)]\tLoss: 0.000001\n"
          ]
        },
        {
          "output_type": "stream",
          "name": "stderr",
          "text": [
            "/usr/local/lib/python3.10/dist-packages/torch/nn/_reduction.py:42: UserWarning: size_average and reduce args will be deprecated, please use reduction='sum' instead.\n",
            "  warnings.warn(warning.format(ret))\n"
          ]
        },
        {
          "output_type": "stream",
          "name": "stdout",
          "text": [
            "\n",
            "Test set: Average loss: 3.6626, Accuracy: 248/400 (62.00%)\n",
            "\n",
            "Num Samples For Training 50 Num Samples For Val 400\n",
            "Train Epoch: 0 [0/50 (0%)]\tLoss: 2.316191\n",
            "Train Epoch: 5 [0/50 (0%)]\tLoss: 1.119318\n",
            "Train Epoch: 10 [0/50 (0%)]\tLoss: 0.285347\n",
            "Train Epoch: 15 [0/50 (0%)]\tLoss: 0.024102\n",
            "Train Epoch: 20 [0/50 (0%)]\tLoss: 0.010567\n",
            "Train Epoch: 25 [0/50 (0%)]\tLoss: 0.002549\n",
            "Train Epoch: 30 [0/50 (0%)]\tLoss: 0.000236\n",
            "Train Epoch: 35 [0/50 (0%)]\tLoss: 0.000084\n",
            "Train Epoch: 40 [0/50 (0%)]\tLoss: 0.000049\n",
            "Train Epoch: 45 [0/50 (0%)]\tLoss: 0.000021\n",
            "Train Epoch: 50 [0/50 (0%)]\tLoss: 0.000014\n",
            "Train Epoch: 55 [0/50 (0%)]\tLoss: 0.000012\n",
            "Train Epoch: 60 [0/50 (0%)]\tLoss: 0.000010\n",
            "Train Epoch: 65 [0/50 (0%)]\tLoss: 0.000009\n",
            "Train Epoch: 70 [0/50 (0%)]\tLoss: 0.000009\n",
            "Train Epoch: 75 [0/50 (0%)]\tLoss: 0.000008\n",
            "Train Epoch: 80 [0/50 (0%)]\tLoss: 0.000007\n",
            "Train Epoch: 85 [0/50 (0%)]\tLoss: 0.000006\n",
            "Train Epoch: 90 [0/50 (0%)]\tLoss: 0.000005\n",
            "Train Epoch: 95 [0/50 (0%)]\tLoss: 0.000005\n",
            "\n",
            "Test set: Average loss: 3.2343, Accuracy: 266/400 (66.50%)\n",
            "\n",
            "Num Samples For Training 50 Num Samples For Val 400\n",
            "Train Epoch: 0 [0/50 (0%)]\tLoss: 2.326214\n",
            "Train Epoch: 5 [0/50 (0%)]\tLoss: 1.216984\n",
            "Train Epoch: 10 [0/50 (0%)]\tLoss: 0.314399\n",
            "Train Epoch: 15 [0/50 (0%)]\tLoss: 0.116465\n",
            "Train Epoch: 20 [0/50 (0%)]\tLoss: 0.006280\n",
            "Train Epoch: 25 [0/50 (0%)]\tLoss: 0.000850\n",
            "Train Epoch: 30 [0/50 (0%)]\tLoss: 0.000144\n",
            "Train Epoch: 35 [0/50 (0%)]\tLoss: 0.000058\n",
            "Train Epoch: 40 [0/50 (0%)]\tLoss: 0.000030\n",
            "Train Epoch: 45 [0/50 (0%)]\tLoss: 0.000019\n",
            "Train Epoch: 50 [0/50 (0%)]\tLoss: 0.000014\n",
            "Train Epoch: 55 [0/50 (0%)]\tLoss: 0.000011\n",
            "Train Epoch: 60 [0/50 (0%)]\tLoss: 0.000009\n",
            "Train Epoch: 65 [0/50 (0%)]\tLoss: 0.000007\n",
            "Train Epoch: 70 [0/50 (0%)]\tLoss: 0.000007\n",
            "Train Epoch: 75 [0/50 (0%)]\tLoss: 0.000006\n",
            "Train Epoch: 80 [0/50 (0%)]\tLoss: 0.000006\n",
            "Train Epoch: 85 [0/50 (0%)]\tLoss: 0.000005\n",
            "Train Epoch: 90 [0/50 (0%)]\tLoss: 0.000005\n",
            "Train Epoch: 95 [0/50 (0%)]\tLoss: 0.000005\n",
            "\n",
            "Test set: Average loss: 2.2675, Accuracy: 275/400 (68.75%)\n",
            "\n",
            "Num Samples For Training 50 Num Samples For Val 400\n",
            "Train Epoch: 0 [0/50 (0%)]\tLoss: 2.310464\n",
            "Train Epoch: 5 [0/50 (0%)]\tLoss: 0.793823\n",
            "Train Epoch: 10 [0/50 (0%)]\tLoss: 0.179022\n",
            "Train Epoch: 15 [0/50 (0%)]\tLoss: 0.041661\n",
            "Train Epoch: 20 [0/50 (0%)]\tLoss: 0.002195\n",
            "Train Epoch: 25 [0/50 (0%)]\tLoss: 0.000934\n",
            "Train Epoch: 30 [0/50 (0%)]\tLoss: 0.000190\n",
            "Train Epoch: 35 [0/50 (0%)]\tLoss: 0.000046\n",
            "Train Epoch: 40 [0/50 (0%)]\tLoss: 0.000024\n",
            "Train Epoch: 45 [0/50 (0%)]\tLoss: 0.000015\n",
            "Train Epoch: 50 [0/50 (0%)]\tLoss: 0.000009\n",
            "Train Epoch: 55 [0/50 (0%)]\tLoss: 0.000006\n",
            "Train Epoch: 60 [0/50 (0%)]\tLoss: 0.000004\n",
            "Train Epoch: 65 [0/50 (0%)]\tLoss: 0.000003\n",
            "Train Epoch: 70 [0/50 (0%)]\tLoss: 0.000003\n",
            "Train Epoch: 75 [0/50 (0%)]\tLoss: 0.000002\n",
            "Train Epoch: 80 [0/50 (0%)]\tLoss: 0.000002\n",
            "Train Epoch: 85 [0/50 (0%)]\tLoss: 0.000002\n",
            "Train Epoch: 90 [0/50 (0%)]\tLoss: 0.000002\n",
            "Train Epoch: 95 [0/50 (0%)]\tLoss: 0.000002\n",
            "\n",
            "Test set: Average loss: 4.1547, Accuracy: 269/400 (67.25%)\n",
            "\n",
            "Acc over 5 instances: 66.12 +- 2.52\n",
            "Average Time over 5 instances: 1.8293066620826721 +-0.42264133203871984\n"
          ]
        }
      ]
    }
  ]
}