{
  "nbformat": 4,
  "nbformat_minor": 0,
  "metadata": {
    "colab": {
      "provenance": []
    },
    "kernelspec": {
      "name": "python3",
      "display_name": "Python 3"
    },
    "language_info": {
      "name": "python"
    }
  },
  "cells": [
    {
      "cell_type": "code",
      "execution_count": null,
      "metadata": {
        "id": "LiWUXCNUr0Y-"
      },
      "outputs": [],
      "source": [
        "import torch\n",
        "from torchvision import datasets, transforms\n",
        "from torch.utils.data import DataLoader, random_split, Subset\n",
        "import torch.nn as nn\n",
        "import torch.nn.functional as F\n",
        "from torchvision.models import resnet18\n",
        "import numpy as np\n",
        "import random"
      ]
    },
    {
      "cell_type": "code",
      "source": [
        "# Set device\n",
        "device = torch.device(\"cuda\" if torch.cuda.is_available() else \"cpu\")\n",
        "\n",
        "# Data transformation\n",
        "transform = transforms.Compose([\n",
        "    transforms.ToTensor(),\n",
        "    transforms.Normalize(mean=[0.4914, 0.4822, 0.4465], std=[0.2023, 0.1994, 0.2010])\n",
        "])\n",
        "\n",
        "# Loading CIFAR-10 dataset\n",
        "full_train_dataset = datasets.CIFAR10(root='./data', train=True, download=True, transform=transform)\n",
        "target_tensor = torch.tensor(full_train_dataset.targets)\n",
        "\n",
        "class_indices = [torch.where(target_tensor == i)[0][:25] for i in range(2)]\n",
        "class_indices = torch.cat(class_indices)\n",
        "\n",
        "# Train dataset and loader\n",
        "train_dataset = Subset(full_train_dataset, class_indices)\n",
        "train_loader = DataLoader(train_dataset, batch_size=10, shuffle=True)\n",
        "\n",
        "# # Test dataset and loader\n",
        "test_dataset = datasets.CIFAR10(root='./data', train=False, download=True, transform=transform)\n",
        "test_loader = DataLoader(test_dataset, batch_size=10, shuffle=False)"
      ],
      "metadata": {
        "colab": {
          "base_uri": "https://localhost:8080/"
        },
        "id": "l_zz4fDKr_8_",
        "outputId": "a4e783d0-3baa-4cb7-e315-2d00328ee4ba"
      },
      "execution_count": null,
      "outputs": [
        {
          "output_type": "stream",
          "name": "stdout",
          "text": [
            "Files already downloaded and verified\n",
            "Files already downloaded and verified\n"
          ]
        }
      ]
    },
    {
      "cell_type": "code",
      "source": [
        "# Modify ResNet to fit the small data scenario\n",
        "def create_small_resnet(num_classes=2, dropout_rate=0.5):\n",
        "    model = resnet18(pretrained=False)\n",
        "    num_features = model.fc.in_features\n",
        "    model.fc = nn.Sequential(\n",
        "        nn.Dropout(dropout_rate),\n",
        "        nn.Linear(num_features, num_classes)\n",
        "    )\n",
        "    return model\n",
        "\n",
        "# Initialize the model\n",
        "model = create_small_resnet().to(device)"
      ],
      "metadata": {
        "colab": {
          "base_uri": "https://localhost:8080/"
        },
        "id": "w37T8CX5sXBo",
        "outputId": "0ffda586-0259-416d-b9d5-95f45fb3d084"
      },
      "execution_count": null,
      "outputs": [
        {
          "output_type": "stream",
          "name": "stderr",
          "text": [
            "/usr/local/lib/python3.10/dist-packages/torchvision/models/_utils.py:208: UserWarning: The parameter 'pretrained' is deprecated since 0.13 and may be removed in the future, please use 'weights' instead.\n",
            "  warnings.warn(\n",
            "/usr/local/lib/python3.10/dist-packages/torchvision/models/_utils.py:223: UserWarning: Arguments other than a weight enum or `None` for 'weights' are deprecated since 0.13 and may be removed in the future. The current behavior is equivalent to passing `weights=None`.\n",
            "  warnings.warn(msg)\n"
          ]
        }
      ]
    },
    {
      "cell_type": "code",
      "source": [
        "from torch.optim import Adam\n",
        "from torch.optim.lr_scheduler import StepLR\n",
        "\n",
        "# Loss and optimizer\n",
        "criterion = nn.CrossEntropyLoss()\n",
        "optimizer = Adam(model.parameters(), lr=0.001)\n",
        "scheduler = StepLR(optimizer, step_size=30, gamma=0.1)\n",
        "\n",
        "# Training function\n",
        "def train_model(model, train_loader, criterion, optimizer, num_epochs=50):\n",
        "    model.train()\n",
        "    for epoch in range(num_epochs):\n",
        "        total_loss = 0\n",
        "        for data, targets in train_loader:\n",
        "            data, targets = data.to(device), targets.to(device)\n",
        "\n",
        "            # Forward pass\n",
        "            outputs = model(data)\n",
        "            loss = criterion(outputs, targets)\n",
        "\n",
        "            # Backward and optimize\n",
        "            optimizer.zero_grad()\n",
        "            loss.backward()\n",
        "            optimizer.step()\n",
        "\n",
        "            total_loss += loss.item()\n",
        "\n",
        "        print(f'Epoch [{epoch+1}/{num_epochs}], Loss: {total_loss/len(train_loader):.4f}')\n",
        "        scheduler.step()\n",
        "\n",
        "# Train the model\n",
        "train_model(model, train_loader, criterion, optimizer)\n"
      ],
      "metadata": {
        "colab": {
          "base_uri": "https://localhost:8080/"
        },
        "id": "mRZtEUTitTBa",
        "outputId": "e632a4e5-1ede-43af-c61b-e29729621513"
      },
      "execution_count": null,
      "outputs": [
        {
          "output_type": "stream",
          "name": "stdout",
          "text": [
            "Epoch [1/50], Loss: 1.0799\n",
            "Epoch [2/50], Loss: 0.7490\n",
            "Epoch [3/50], Loss: 0.8518\n",
            "Epoch [4/50], Loss: 0.6642\n",
            "Epoch [5/50], Loss: 0.5490\n",
            "Epoch [6/50], Loss: 0.1877\n",
            "Epoch [7/50], Loss: 0.3505\n",
            "Epoch [8/50], Loss: 0.2533\n",
            "Epoch [9/50], Loss: 0.1633\n",
            "Epoch [10/50], Loss: 0.5683\n",
            "Epoch [11/50], Loss: 0.1519\n",
            "Epoch [12/50], Loss: 0.0322\n",
            "Epoch [13/50], Loss: 0.1378\n",
            "Epoch [14/50], Loss: 0.4867\n",
            "Epoch [15/50], Loss: 0.0818\n",
            "Epoch [16/50], Loss: 0.2484\n",
            "Epoch [17/50], Loss: 0.2487\n",
            "Epoch [18/50], Loss: 0.1785\n",
            "Epoch [19/50], Loss: 0.1007\n",
            "Epoch [20/50], Loss: 0.0436\n",
            "Epoch [21/50], Loss: 0.1245\n",
            "Epoch [22/50], Loss: 0.0227\n",
            "Epoch [23/50], Loss: 0.0296\n",
            "Epoch [24/50], Loss: 0.0352\n",
            "Epoch [25/50], Loss: 0.0088\n",
            "Epoch [26/50], Loss: 0.0177\n",
            "Epoch [27/50], Loss: 0.0172\n",
            "Epoch [28/50], Loss: 0.1984\n",
            "Epoch [29/50], Loss: 0.0099\n",
            "Epoch [30/50], Loss: 0.0414\n",
            "Epoch [31/50], Loss: 0.0577\n",
            "Epoch [32/50], Loss: 0.0494\n",
            "Epoch [33/50], Loss: 0.0202\n",
            "Epoch [34/50], Loss: 0.0126\n",
            "Epoch [35/50], Loss: 0.0113\n",
            "Epoch [36/50], Loss: 0.0193\n",
            "Epoch [37/50], Loss: 0.0101\n",
            "Epoch [38/50], Loss: 0.0366\n",
            "Epoch [39/50], Loss: 0.0110\n",
            "Epoch [40/50], Loss: 0.0034\n",
            "Epoch [41/50], Loss: 0.0106\n",
            "Epoch [42/50], Loss: 0.0216\n",
            "Epoch [43/50], Loss: 0.0091\n",
            "Epoch [44/50], Loss: 0.0053\n",
            "Epoch [45/50], Loss: 0.0091\n",
            "Epoch [46/50], Loss: 0.0096\n",
            "Epoch [47/50], Loss: 0.0072\n",
            "Epoch [48/50], Loss: 0.0115\n",
            "Epoch [49/50], Loss: 0.0039\n",
            "Epoch [50/50], Loss: 0.0110\n"
          ]
        }
      ]
    },
    {
      "cell_type": "code",
      "source": [
        "def evaluate_model(model, test_loader):\n",
        "    model.eval()  # Set the model to evaluation mode\n",
        "    correct = 0\n",
        "    total = 0\n",
        "    with torch.no_grad():  # Inference mode, gradient is not needed\n",
        "        for data, labels in test_loader:\n",
        "            data, labels = data.to(device), labels.to(device)\n",
        "            outputs = model(data)\n",
        "            _, predicted = torch.max(outputs.data, 1)\n",
        "            total += labels.size(0)\n",
        "            correct += (predicted == labels).sum().item()\n",
        "\n",
        "    accuracy = 100 * correct / total\n",
        "    return accuracy\n",
        "\n",
        "# Evaluate the model\n",
        "accuracy = evaluate_model(model, test_loader)\n",
        "print(f'Accuracy of the model on the test images: {accuracy:.2f}%')\n"
      ],
      "metadata": {
        "colab": {
          "base_uri": "https://localhost:8080/"
        },
        "id": "Gu61r5kv4dd_",
        "outputId": "d68161f3-d9d6-466b-c8dc-7d029559638a"
      },
      "execution_count": null,
      "outputs": [
        {
          "output_type": "stream",
          "name": "stdout",
          "text": [
            "Accuracy of the model on the test images: 15.06%\n"
          ]
        }
      ]
    }
  ]
}