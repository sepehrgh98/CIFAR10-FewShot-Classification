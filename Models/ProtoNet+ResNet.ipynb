{
  "nbformat": 4,
  "nbformat_minor": 0,
  "metadata": {
    "colab": {
      "provenance": []
    },
    "kernelspec": {
      "name": "python3",
      "display_name": "Python 3"
    },
    "language_info": {
      "name": "python"
    }
  },
  "cells": [
    {
      "cell_type": "code",
      "execution_count": null,
      "metadata": {
        "id": "3dshU4VncPaU"
      },
      "outputs": [],
      "source": [
        "import torch\n",
        "import torch.nn as nn\n",
        "import torch.optim as optim\n",
        "from torchvision.datasets import CIFAR10\n",
        "from torchvision.transforms import transforms\n",
        "from torch.utils.data import DataLoader, Dataset\n",
        "import random\n",
        "import numpy as np\n",
        "from torchvision.models import resnet18\n",
        "\n",
        "# Device configuration\n",
        "device = torch.device(\"cuda\" if torch.cuda.is_available() else \"cpu\")"
      ]
    },
    {
      "cell_type": "code",
      "source": [
        "# Modify ResNet to fit the small data scenario\n",
        "def create_small_resnet(num_classes=2, dropout_rate=0.5):\n",
        "    model = resnet18(pretrained=False)\n",
        "    num_features = model.fc.in_features\n",
        "    model.fc = nn.Sequential(\n",
        "        nn.Dropout(dropout_rate),\n",
        "        nn.Linear(num_features, num_classes)\n",
        "    )\n",
        "    return model"
      ],
      "metadata": {
        "id": "fShkSpQJcXDR"
      },
      "execution_count": null,
      "outputs": []
    },
    {
      "cell_type": "code",
      "source": [
        "# Load CIFAR-10 data\n",
        "def load_cifar10_data():\n",
        "    transform = transforms.Compose([\n",
        "        transforms.ToTensor(),\n",
        "        transforms.Normalize((0.5, 0.5, 0.5), (0.5, 0.5, 0.5))\n",
        "    ])\n",
        "    train_dataset = CIFAR10(root='./data', train=True, download=True, transform=transform)\n",
        "    return train_dataset\n",
        "\n",
        "class CustomCIFAR10(Dataset):\n",
        "    def __init__(self, data, targets):\n",
        "        self.data = data\n",
        "        self.targets = targets\n",
        "\n",
        "    def __len__(self):\n",
        "        return len(self.data)\n",
        "\n",
        "    def __getitem__(self, idx):\n",
        "        return self.data[idx], self.targets[idx]\n",
        "\n",
        "def sample_task(dataset, num_samples_per_class=5, num_query_per_class=15, used_indices=None):\n",
        "    if used_indices is None:\n",
        "        used_indices = set()\n",
        "\n",
        "    chosen_classes = random.sample(range(10), 2)  # Select two random classes\n",
        "    class_map = {chosen_classes[i]: i for i in range(2)}\n",
        "    support_data = []\n",
        "    query_data = []\n",
        "    support_labels = []\n",
        "    query_labels = []\n",
        "    indices_per_class = {class_map[chosen_classes[0]]: [], class_map[chosen_classes[1]]: []}\n",
        "\n",
        "    for idx, (image, label) in enumerate(dataset):\n",
        "        if label in chosen_classes and idx not in used_indices:\n",
        "            class_label = class_map[label]\n",
        "            if len(indices_per_class[class_label]) < num_samples_per_class + num_query_per_class:\n",
        "                if len(indices_per_class[class_label]) < num_samples_per_class:\n",
        "                    support_data.append(image)\n",
        "                    support_labels.append(class_label)\n",
        "                else:\n",
        "                    query_data.append(image)\n",
        "                    query_labels.append(class_label)\n",
        "                indices_per_class[class_label].append(idx)\n",
        "                used_indices.add(idx)\n",
        "            if all(len(indices_per_class[c]) == num_samples_per_class + num_query_per_class for c in indices_per_class):\n",
        "                break\n",
        "\n",
        "    return CustomCIFAR10(support_data, support_labels), CustomCIFAR10(query_data, query_labels)\n"
      ],
      "metadata": {
        "id": "gU-J3aU_caMz"
      },
      "execution_count": null,
      "outputs": []
    },
    {
      "cell_type": "code",
      "source": [
        "def euclidean_dist(x, y):\n",
        "    return torch.cdist(x, y)\n",
        "\n",
        "def prototypical_loss(support_features, query_features, support_labels, query_labels):\n",
        "    # Calculate prototypes as the mean of support features by class\n",
        "    unique_labels = torch.unique(support_labels)\n",
        "    prototypes = torch.stack([support_features[support_labels == label].mean(0) for label in unique_labels])\n",
        "\n",
        "    # Calculate distances from query features to prototypes\n",
        "    dists = euclidean_dist(query_features, prototypes)\n",
        "\n",
        "    # Use log_softmax and negative log likelihood loss\n",
        "    log_p_y = torch.nn.functional.log_softmax(-dists, dim=1)\n",
        "    loss_val = torch.nn.functional.nll_loss(log_p_y, query_labels)\n",
        "    return loss_val\n",
        "\n",
        "\n",
        "\n",
        "def meta_train(model, dataset, device, epochs=50, tasks_per_epoch=5, num_support=5, num_query=15):\n",
        "    optimizer = optim.Adam(model.parameters(), lr=0.001)\n",
        "\n",
        "    for epoch in range(epochs):\n",
        "        model.train()\n",
        "        used_indices = set()\n",
        "        total_loss = 0\n",
        "        for _ in range(tasks_per_epoch):\n",
        "            support_set, query_set = sample_task(dataset, num_samples_per_class=num_support, num_query_per_class=num_query, used_indices=used_indices)\n",
        "            support_loader = DataLoader(support_set, batch_size=len(support_set), shuffle=True)\n",
        "            query_loader = DataLoader(query_set, batch_size=len(query_set), shuffle=True)\n",
        "\n",
        "            support_data, support_labels = next(iter(support_loader))\n",
        "            query_data, query_labels = next(iter(query_loader))\n",
        "\n",
        "            support_data, support_labels = support_data.to(device), support_labels.to(device)\n",
        "            query_data, query_labels = query_data.to(device), query_labels.to(device)\n",
        "\n",
        "            optimizer.zero_grad()\n",
        "            support_features = model(support_data)\n",
        "            query_features = model(query_data)\n",
        "            loss = prototypical_loss(support_features, query_features, support_labels, query_labels)  # Updated to remove the extra argument\n",
        "            loss.backward()\n",
        "            optimizer.step()\n",
        "\n",
        "            total_loss += loss.item()\n",
        "\n",
        "        print(f'Epoch {epoch + 1}, Average Loss: {total_loss / tasks_per_epoch}')\n",
        "\n",
        "# Initialize datasets and model\n",
        "train_dataset = load_cifar10_data()\n",
        "model = create_small_resnet().to(device)\n",
        "\n",
        "# Start training\n",
        "meta_train(model, train_dataset, device)"
      ],
      "metadata": {
        "colab": {
          "base_uri": "https://localhost:8080/"
        },
        "id": "3Jhl2fzFcdFq",
        "outputId": "d792798a-2f58-42ff-ee95-3e71648becb0"
      },
      "execution_count": null,
      "outputs": [
        {
          "output_type": "stream",
          "name": "stdout",
          "text": [
            "Files already downloaded and verified\n"
          ]
        },
        {
          "output_type": "stream",
          "name": "stderr",
          "text": [
            "/usr/local/lib/python3.10/dist-packages/torchvision/models/_utils.py:208: UserWarning: The parameter 'pretrained' is deprecated since 0.13 and may be removed in the future, please use 'weights' instead.\n",
            "  warnings.warn(\n",
            "/usr/local/lib/python3.10/dist-packages/torchvision/models/_utils.py:223: UserWarning: Arguments other than a weight enum or `None` for 'weights' are deprecated since 0.13 and may be removed in the future. The current behavior is equivalent to passing `weights=None`.\n",
            "  warnings.warn(msg)\n"
          ]
        },
        {
          "output_type": "stream",
          "name": "stdout",
          "text": [
            "Epoch 1, Average Loss: 0.7401832818984986\n",
            "Epoch 2, Average Loss: 0.6789878845214844\n",
            "Epoch 3, Average Loss: 0.933695811033249\n",
            "Epoch 4, Average Loss: 0.6123790979385376\n",
            "Epoch 5, Average Loss: 0.6614694952964782\n",
            "Epoch 6, Average Loss: 0.8506425738334655\n",
            "Epoch 7, Average Loss: 0.7290533542633056\n",
            "Epoch 8, Average Loss: 0.7865317404270172\n",
            "Epoch 9, Average Loss: 0.7868565201759339\n",
            "Epoch 10, Average Loss: 0.7292192101478576\n",
            "Epoch 11, Average Loss: 0.5491008162498474\n",
            "Epoch 12, Average Loss: 0.7582954883575439\n",
            "Epoch 13, Average Loss: 0.683092612028122\n",
            "Epoch 14, Average Loss: 0.4206447660923004\n",
            "Epoch 15, Average Loss: 0.542730736732483\n",
            "Epoch 16, Average Loss: 0.7506886333227157\n",
            "Epoch 17, Average Loss: 0.6584505200386047\n",
            "Epoch 18, Average Loss: 0.6465480774641037\n",
            "Epoch 19, Average Loss: 0.5795291006565094\n",
            "Epoch 20, Average Loss: 0.5400517821311951\n",
            "Epoch 21, Average Loss: 0.7901002883911132\n",
            "Epoch 22, Average Loss: 0.410729306936264\n",
            "Epoch 23, Average Loss: 0.5999743461608886\n",
            "Epoch 24, Average Loss: 0.5641645967960358\n",
            "Epoch 25, Average Loss: 0.39159255623817446\n",
            "Epoch 26, Average Loss: 0.49194579720497134\n",
            "Epoch 27, Average Loss: 0.6672504127025605\n",
            "Epoch 28, Average Loss: 0.2746355563402176\n",
            "Epoch 29, Average Loss: 0.5729534327983856\n",
            "Epoch 30, Average Loss: 0.45704666078090667\n",
            "Epoch 31, Average Loss: 0.5660053968429566\n",
            "Epoch 32, Average Loss: 0.5231398850679397\n",
            "Epoch 33, Average Loss: 0.5259618163108826\n",
            "Epoch 34, Average Loss: 0.7313763737678528\n",
            "Epoch 35, Average Loss: 0.6393333792686462\n",
            "Epoch 36, Average Loss: 0.59698988199234\n",
            "Epoch 37, Average Loss: 0.46875313818454745\n",
            "Epoch 38, Average Loss: 0.43415603041648865\n",
            "Epoch 39, Average Loss: 0.6268794342875481\n",
            "Epoch 40, Average Loss: 0.37612674534320834\n",
            "Epoch 41, Average Loss: 0.4929696798324585\n",
            "Epoch 42, Average Loss: 0.5367255747318268\n",
            "Epoch 43, Average Loss: 0.578488552570343\n",
            "Epoch 44, Average Loss: 0.5466179966926574\n",
            "Epoch 45, Average Loss: 0.4871073246002197\n",
            "Epoch 46, Average Loss: 0.5319108068943024\n",
            "Epoch 47, Average Loss: 0.5686199307441712\n",
            "Epoch 48, Average Loss: 0.38197442293167116\n",
            "Epoch 49, Average Loss: 0.31729488968849184\n",
            "Epoch 50, Average Loss: 0.22644973173737526\n"
          ]
        }
      ]
    },
    {
      "cell_type": "code",
      "source": [
        "def meta_test(model, dataset, device, num_samples_per_class=5, num_support=3, num_query=2, num_tasks=10):\n",
        "    accuracies = []\n",
        "    model.eval()  # Set the model to evaluation mode\n",
        "    used_indices = set()  # Initialize here to track indices across tasks\n",
        "\n",
        "    with torch.no_grad():\n",
        "        for _ in range(num_tasks):\n",
        "            # Sample a new task\n",
        "            support_set, query_set = sample_task(dataset, num_samples_per_class=num_samples_per_class, num_query_per_class=num_query, used_indices=used_indices)\n",
        "            support_loader = DataLoader(support_set, batch_size=len(support_set), shuffle=True)\n",
        "            query_loader = DataLoader(query_set, batch_size=len(query_set), shuffle=False)\n",
        "\n",
        "            # Get data for support and query sets\n",
        "            support_data, support_labels = next(iter(support_loader))\n",
        "            query_data, query_labels = next(iter(query_loader))\n",
        "\n",
        "            support_data, support_labels = support_data.to(device), support_labels.to(device)\n",
        "            query_data, query_labels = query_data.to(device), query_labels.to(device)\n",
        "\n",
        "            # Calculate prototypes\n",
        "            support_features = model(support_data)\n",
        "            unique_labels = torch.unique(support_labels)\n",
        "            prototypes = torch.stack([support_features[support_labels == label].mean(0) for label in unique_labels])\n",
        "\n",
        "            # Evaluate on query data\n",
        "            query_features = model(query_data)\n",
        "            dists = euclidean_dist(query_features, prototypes)\n",
        "            _, predicted = torch.min(dists, 1)\n",
        "\n",
        "            # Calculate accuracy\n",
        "            correct = (predicted == query_labels).sum().item()\n",
        "            total = query_labels.size(0)\n",
        "            accuracy = correct / total\n",
        "            accuracies.append(accuracy)\n",
        "\n",
        "    average_accuracy = np.mean(accuracies)\n",
        "    print(f'Average Test Accuracy on new tasks: {average_accuracy * 100:.2f}%')\n",
        "    return average_accuracy\n",
        "\n",
        "\n",
        "# Prepare a test dataset (assuming classes not seen during training)\n",
        "def load_cifar10_test_data():\n",
        "    transform = transforms.Compose([\n",
        "        transforms.ToTensor(),\n",
        "        transforms.Normalize((0.5, 0.5, 0.5), (0.5, 0.5, 0.5))\n",
        "    ])\n",
        "    test_dataset = CIFAR10(root='./data', train=False, download=True, transform=transform)\n",
        "    return test_dataset\n",
        "\n",
        "\n",
        "# Load test dataset\n",
        "test_dataset = load_cifar10_test_data()\n",
        "\n",
        "# Evaluate the model on new tasks\n",
        "meta_test(model, test_dataset, device, num_samples_per_class=5, num_support=3, num_query=2, num_tasks=5)\n"
      ],
      "metadata": {
        "colab": {
          "base_uri": "https://localhost:8080/"
        },
        "id": "FSYBaWezcfQn",
        "outputId": "0e839164-727f-46f0-982d-dfd51772295f"
      },
      "execution_count": null,
      "outputs": [
        {
          "output_type": "stream",
          "name": "stdout",
          "text": [
            "Files already downloaded and verified\n",
            "Average Test Accuracy on new tasks: 70.00%\n"
          ]
        },
        {
          "output_type": "execute_result",
          "data": {
            "text/plain": [
              "0.7"
            ]
          },
          "metadata": {},
          "execution_count": 6
        }
      ]
    }
  ]
}