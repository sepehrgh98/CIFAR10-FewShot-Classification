{
  "nbformat": 4,
  "nbformat_minor": 0,
  "metadata": {
    "colab": {
      "provenance": []
    },
    "kernelspec": {
      "name": "python3",
      "display_name": "Python 3"
    },
    "language_info": {
      "name": "python"
    }
  },
  "cells": [
    {
      "cell_type": "code",
      "execution_count": null,
      "metadata": {
        "id": "FxZ2Wbx3Kzei"
      },
      "outputs": [],
      "source": [
        "import torch\n",
        "import torch.nn as nn\n",
        "import torch.optim as optim\n",
        "from torchvision.datasets import CIFAR10\n",
        "from torchvision.transforms import transforms\n",
        "from torch.utils.data import DataLoader, Dataset\n",
        "import random\n",
        "import numpy as np\n",
        "from torchvision.models import resnet18\n",
        "\n",
        "# Device configuration\n",
        "device = torch.device(\"cuda\" if torch.cuda.is_available() else \"cpu\")"
      ]
    },
    {
      "cell_type": "code",
      "source": [
        "# Modify ResNet to fit the small data scenario\n",
        "def create_small_resnet(num_classes=2, dropout_rate=0.5):\n",
        "    model = resnet18(pretrained=False)\n",
        "    num_features = model.fc.in_features\n",
        "    model.fc = nn.Sequential(\n",
        "        nn.Dropout(dropout_rate),\n",
        "        nn.Linear(num_features, num_classes)\n",
        "    )\n",
        "    return model"
      ],
      "metadata": {
        "id": "SvBy5R4XK4t4"
      },
      "execution_count": null,
      "outputs": []
    },
    {
      "cell_type": "code",
      "source": [
        "# Load and prepare CIFAR-10 data only once\n",
        "def load_cifar10_data():\n",
        "    transform = transforms.Compose([\n",
        "        transforms.ToTensor(),\n",
        "        transforms.Normalize((0.5, 0.5, 0.5), (0.5, 0.5, 0.5))\n",
        "    ])\n",
        "    train_dataset = CIFAR10(root='./data', train=True, download=True, transform=transform)\n",
        "    return train_dataset\n",
        "\n",
        "# Custom dataset class\n",
        "class CustomCIFAR10(Dataset):\n",
        "    def __init__(self, data, targets):\n",
        "        self.data = data\n",
        "        self.targets = targets\n",
        "\n",
        "    def __len__(self):\n",
        "        return len(self.data)\n",
        "\n",
        "    def __getitem__(self, idx):\n",
        "        return self.data[idx], self.targets[idx]\n",
        "\n",
        "def sample_task(dataset, num_samples_per_class=5, used_indices=None):\n",
        "    if used_indices is None:\n",
        "        used_indices = set()  # Use an empty set if none provided\n",
        "\n",
        "    chosen_classes = random.sample(range(10), 2)  # Select two random classes\n",
        "    class_map = {chosen_classes[i]: i for i in range(2)}\n",
        "    data = []\n",
        "    labels = []\n",
        "    indices_per_class = {class_map[chosen_classes[0]]: [], class_map[chosen_classes[1]]: []}\n",
        "\n",
        "    for idx, (image, label) in enumerate(dataset):\n",
        "        if label in chosen_classes and idx not in used_indices:\n",
        "            class_label = class_map[label]\n",
        "            if len(indices_per_class[class_label]) < num_samples_per_class:\n",
        "                data.append(image)\n",
        "                labels.append(class_label)\n",
        "                indices_per_class[class_label].append(idx)\n",
        "                used_indices.add(idx)\n",
        "            # Correct checking of completion for all class indices\n",
        "            if all(len(indices_per_class[c]) == num_samples_per_class for c in indices_per_class):\n",
        "                break\n",
        "\n",
        "    return CustomCIFAR10(data, labels)\n"
      ],
      "metadata": {
        "id": "-b1mnB3tLKZW"
      },
      "execution_count": null,
      "outputs": []
    },
    {
      "cell_type": "code",
      "source": [
        "def meta_train(model, dataset, device, epochs=50, tasks_per_epoch=5, num_samples_per_class=5):\n",
        "    optimizer = optim.Adam(model.parameters(), lr=0.001)\n",
        "    criterion = nn.CrossEntropyLoss()\n",
        "\n",
        "    for epoch in range(epochs):\n",
        "        model.train()\n",
        "        used_indices = set()\n",
        "        for _ in range(tasks_per_epoch):\n",
        "            # Ensure the correct order and usage of arguments when calling sample_task\n",
        "            task_dataset = sample_task(dataset, num_samples_per_class=num_samples_per_class, used_indices=used_indices)\n",
        "            task_loader = DataLoader(task_dataset, batch_size=10, shuffle=True)\n",
        "\n",
        "            for data, targets in task_loader:\n",
        "                data, targets = data.to(device), targets.to(device)\n",
        "                optimizer.zero_grad()\n",
        "                outputs = model(data)\n",
        "                loss = criterion(outputs, targets)\n",
        "                loss.backward()\n",
        "                optimizer.step()\n",
        "\n",
        "        print(f'Epoch {epoch + 1}, Loss: {loss.item()}')\n",
        "\n",
        "\n",
        "\n",
        "# Initialize datasets and model\n",
        "device = torch.device(\"cuda\" if torch.cuda.is_available() else \"cpu\")\n",
        "train_dataset = load_cifar10_data()\n",
        "model = create_small_resnet().to(device)\n",
        "\n",
        "# Start training\n",
        "meta_train(model, train_dataset, device)"
      ],
      "metadata": {
        "colab": {
          "base_uri": "https://localhost:8080/"
        },
        "id": "brqIsI-ELMuP",
        "outputId": "3aa12a45-ac36-4fdc-a488-7ecd80b1edf1"
      },
      "execution_count": null,
      "outputs": [
        {
          "output_type": "stream",
          "name": "stdout",
          "text": [
            "Files already downloaded and verified\n",
            "Epoch 1, Loss: 0.6195136904716492\n",
            "Epoch 2, Loss: 1.529581069946289\n",
            "Epoch 3, Loss: 0.8735393285751343\n",
            "Epoch 4, Loss: 0.7255673408508301\n",
            "Epoch 5, Loss: 0.6850746273994446\n",
            "Epoch 6, Loss: 1.450914740562439\n",
            "Epoch 7, Loss: 0.8798540234565735\n",
            "Epoch 8, Loss: 1.5622708797454834\n",
            "Epoch 9, Loss: 0.6429208517074585\n",
            "Epoch 10, Loss: 0.7567564249038696\n",
            "Epoch 11, Loss: 1.0010005235671997\n",
            "Epoch 12, Loss: 0.9353543519973755\n",
            "Epoch 13, Loss: 0.6908055543899536\n",
            "Epoch 14, Loss: 0.7390526533126831\n",
            "Epoch 15, Loss: 1.081953763961792\n",
            "Epoch 16, Loss: 1.063437581062317\n",
            "Epoch 17, Loss: 0.5718498229980469\n",
            "Epoch 18, Loss: 1.3587660789489746\n",
            "Epoch 19, Loss: 0.833337664604187\n",
            "Epoch 20, Loss: 1.060869812965393\n",
            "Epoch 21, Loss: 0.5736203193664551\n",
            "Epoch 22, Loss: 1.050593376159668\n",
            "Epoch 23, Loss: 0.6941630840301514\n",
            "Epoch 24, Loss: 0.48005905747413635\n",
            "Epoch 25, Loss: 0.8346608877182007\n",
            "Epoch 26, Loss: 0.6782714128494263\n",
            "Epoch 27, Loss: 0.8701767921447754\n",
            "Epoch 28, Loss: 0.7237433791160583\n",
            "Epoch 29, Loss: 0.8006707429885864\n",
            "Epoch 30, Loss: 0.8036283254623413\n",
            "Epoch 31, Loss: 0.7694590091705322\n",
            "Epoch 32, Loss: 0.8266995549201965\n",
            "Epoch 33, Loss: 1.0061609745025635\n",
            "Epoch 34, Loss: 0.6630196571350098\n",
            "Epoch 35, Loss: 0.6469219923019409\n",
            "Epoch 36, Loss: 1.000321388244629\n",
            "Epoch 37, Loss: 0.9959122538566589\n",
            "Epoch 38, Loss: 1.105959177017212\n",
            "Epoch 39, Loss: 0.6784466505050659\n",
            "Epoch 40, Loss: 0.7115176916122437\n",
            "Epoch 41, Loss: 0.8369496464729309\n",
            "Epoch 42, Loss: 0.7380552291870117\n",
            "Epoch 43, Loss: 0.6548417210578918\n",
            "Epoch 44, Loss: 0.5600246787071228\n",
            "Epoch 45, Loss: 0.6804564595222473\n",
            "Epoch 46, Loss: 0.6309131383895874\n",
            "Epoch 47, Loss: 0.651483952999115\n",
            "Epoch 48, Loss: 0.8679693937301636\n",
            "Epoch 49, Loss: 0.8021363019943237\n",
            "Epoch 50, Loss: 0.7050596475601196\n"
          ]
        }
      ]
    },
    {
      "cell_type": "code",
      "source": [
        "# Meta-testing function adapted for ResNet-18\n",
        "def meta_test(model, dataset, device, num_classes=2, num_samples=25, n_inner_iter=5, inner_lr=0.01):\n",
        "    accuracies = []\n",
        "    for _ in range(10):  # Run several test tasks for better statistical measure\n",
        "        task_dataset = sample_task(dataset, num_samples_per_class=num_samples)\n",
        "        task_loader = DataLoader(task_dataset, batch_size=num_samples, shuffle=True)\n",
        "\n",
        "        # Directly create a new ResNet-18 instance for adaptation\n",
        "        adapted_model = create_small_resnet(num_classes=num_classes).to(device)\n",
        "        adapted_model.load_state_dict(model.state_dict())\n",
        "        optimizer = optim.SGD(adapted_model.parameters(), lr=inner_lr)\n",
        "\n",
        "        # Adaptation phase: Fine-tune on the new task\n",
        "        for data, targets in task_loader:\n",
        "            data, targets = data.to(device), targets.to(device)\n",
        "            optimizer.zero_grad()\n",
        "            outputs = adapted_model(data)\n",
        "            loss = nn.CrossEntropyLoss()(outputs, targets)\n",
        "            loss.backward()\n",
        "            optimizer.step()\n",
        "\n",
        "        # Evaluation phase: Test the fine-tuned model\n",
        "        correct = 0\n",
        "        total = 0\n",
        "        with torch.no_grad():\n",
        "            for data, targets in task_loader:\n",
        "                data, targets = data.to(device), targets.to(device)\n",
        "                outputs = adapted_model(data)\n",
        "                _, predicted = torch.max(outputs.data, 1)\n",
        "                total += targets.size(0)\n",
        "                correct += (predicted == targets).sum().item()\n",
        "\n",
        "        accuracy = correct / total\n",
        "        accuracies.append(accuracy)\n",
        "\n",
        "    average_accuracy = np.mean(accuracies)\n",
        "    print(f'Average Test Accuracy on new tasks: {average_accuracy * 100:.2f}%')\n",
        "    return average_accuracy\n",
        "\n",
        "\n",
        "# Prepare a test dataset (assuming classes not seen during training)\n",
        "def load_cifar10_test_data():\n",
        "    transform = transforms.Compose([\n",
        "        transforms.ToTensor(),\n",
        "        transforms.Normalize((0.5, 0.5, 0.5), (0.5, 0.5, 0.5))\n",
        "    ])\n",
        "    test_dataset = CIFAR10(root='./data', train=False, download=True, transform=transform)\n",
        "    return test_dataset\n",
        "\n",
        "# Load test dataset\n",
        "test_dataset = load_cifar10_test_data()\n",
        "\n",
        "# Evaluate the model on new tasks\n",
        "meta_test(model, test_dataset, device, num_classes=2, num_samples=25, n_inner_iter=5, inner_lr=0.01)\n"
      ],
      "metadata": {
        "colab": {
          "base_uri": "https://localhost:8080/"
        },
        "id": "xU0SFq80LUk7",
        "outputId": "21f56792-ff42-40de-ccfe-1ef86ba7c4ff"
      },
      "execution_count": null,
      "outputs": [
        {
          "output_type": "stream",
          "name": "stdout",
          "text": [
            "Files already downloaded and verified\n",
            "Average Test Accuracy on new tasks: 55.40%\n"
          ]
        },
        {
          "output_type": "execute_result",
          "data": {
            "text/plain": [
              "0.5539999999999999"
            ]
          },
          "metadata": {},
          "execution_count": 22
        }
      ]
    }
  ]
}